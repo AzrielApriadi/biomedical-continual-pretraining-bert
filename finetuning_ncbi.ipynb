{
  "cells": [
    {
      "cell_type": "markdown",
      "metadata": {
        "id": "Vu3uGVXvx2wb"
      },
      "source": [
        "# Load Dataset"
      ]
    },
    {
      "cell_type": "code",
      "execution_count": null,
      "metadata": {
        "id": "vP3uzabvx2wi"
      },
      "outputs": [],
      "source": [
        "from datasets import load_dataset"
      ]
    },
    {
      "cell_type": "code",
      "execution_count": null,
      "metadata": {
        "id": "dafUYJJex2wl"
      },
      "outputs": [],
      "source": [
        "dataset = load_dataset(\"ncbi_disease\", trust_remote_code=True)"
      ]
    },
    {
      "cell_type": "code",
      "execution_count": null,
      "metadata": {
        "id": "pEJuopDax2wm",
        "outputId": "90f03c66-ca90-4789-f4ef-f723b29c832d"
      },
      "outputs": [
        {
          "name": "stdout",
          "output_type": "stream",
          "text": [
            "DatasetDict({\n",
            "    train: Dataset({\n",
            "        features: ['id', 'tokens', 'ner_tags'],\n",
            "        num_rows: 5433\n",
            "    })\n",
            "    validation: Dataset({\n",
            "        features: ['id', 'tokens', 'ner_tags'],\n",
            "        num_rows: 924\n",
            "    })\n",
            "    test: Dataset({\n",
            "        features: ['id', 'tokens', 'ner_tags'],\n",
            "        num_rows: 941\n",
            "    })\n",
            "})\n"
          ]
        }
      ],
      "source": [
        "print(dataset)"
      ]
    },
    {
      "cell_type": "code",
      "execution_count": null,
      "metadata": {
        "id": "r6eeVy5Ix2wo",
        "outputId": "2b2e9e50-81e0-4cf2-d192-1c0d7179b30f"
      },
      "outputs": [
        {
          "data": {
            "text/plain": [
              "['O', 'B-Disease', 'I-Disease']"
            ]
          },
          "execution_count": 4,
          "metadata": {},
          "output_type": "execute_result"
        }
      ],
      "source": [
        "label_list = dataset[\"train\"].features[f\"ner_tags\"].feature.names\n",
        "label_list\n"
      ]
    },
    {
      "cell_type": "code",
      "execution_count": null,
      "metadata": {
        "id": "ysdWRBkFx2wp",
        "outputId": "952877e7-0df6-4d68-d097-e86696f79409"
      },
      "outputs": [
        {
          "data": {
            "text/plain": [
              "3"
            ]
          },
          "execution_count": 5,
          "metadata": {},
          "output_type": "execute_result"
        }
      ],
      "source": [
        "num_label = len(label_list)\n",
        "num_label"
      ]
    },
    {
      "cell_type": "code",
      "execution_count": null,
      "metadata": {
        "id": "ksoOWdeKx2wp",
        "outputId": "ff5eb9aa-9603-4fc9-ed2c-952ce11815ef"
      },
      "outputs": [
        {
          "data": {
            "text/plain": [
              "{'id': '0',\n",
              " 'tokens': ['Identification',\n",
              "  'of',\n",
              "  'APC2',\n",
              "  ',',\n",
              "  'a',\n",
              "  'homologue',\n",
              "  'of',\n",
              "  'the',\n",
              "  'adenomatous',\n",
              "  'polyposis',\n",
              "  'coli',\n",
              "  'tumour',\n",
              "  'suppressor',\n",
              "  '.'],\n",
              " 'ner_tags': [0, 0, 0, 0, 0, 0, 0, 0, 1, 2, 2, 2, 0, 0]}"
            ]
          },
          "execution_count": 6,
          "metadata": {},
          "output_type": "execute_result"
        }
      ],
      "source": [
        "example = dataset['train'][0]\n",
        "example"
      ]
    },
    {
      "cell_type": "markdown",
      "metadata": {
        "id": "eYe4LZo5x2wq"
      },
      "source": [
        "# Tokenizer & Padding"
      ]
    },
    {
      "cell_type": "code",
      "execution_count": null,
      "metadata": {
        "id": "mapK-f5Px2wr",
        "outputId": "bbe67777-350f-431a-bce4-137099ce336c"
      },
      "outputs": [
        {
          "name": "stderr",
          "output_type": "stream",
          "text": [
            "c:\\Users\\risuser\\.conda\\envs\\text\\lib\\site-packages\\huggingface_hub\\file_download.py:797: FutureWarning: `resume_download` is deprecated and will be removed in version 1.0.0. Downloads always resume when possible. If you want to force a new download, use `force_download=True`.\n",
            "  warnings.warn(\n"
          ]
        }
      ],
      "source": [
        "from transformers import AutoTokenizer\n",
        "model_checkpoint = \"Indahgalaputri/PubMedAbstract2M-BERT\"\n",
        "tokenizer = AutoTokenizer.from_pretrained(model_checkpoint)"
      ]
    },
    {
      "cell_type": "code",
      "execution_count": null,
      "metadata": {
        "id": "wDT6RZOkx2ws"
      },
      "outputs": [],
      "source": [
        "def tokenize_and_align_labels(examples):\n",
        "    tokenized_inputs = tokenizer(examples[\"tokens\"], truncation=True, max_length=128, is_split_into_words=True)\n",
        "\n",
        "    labels = []\n",
        "    for i, label in enumerate(examples[f\"ner_tags\"]):\n",
        "        word_ids = tokenized_inputs.word_ids(batch_index=i)  # Map tokens to their respective word.\n",
        "        previous_word_idx = None\n",
        "        label_ids = []\n",
        "        for word_idx in word_ids:  # Set the special tokens to -100.\n",
        "            if word_idx is None:\n",
        "                label_ids.append(-100)\n",
        "            elif word_idx != previous_word_idx:  # Only label the first token of a given word.\n",
        "                label_ids.append(label[word_idx])\n",
        "            else:\n",
        "                label_ids.append(-100)\n",
        "            previous_word_idx = word_idx\n",
        "        labels.append(label_ids)\n",
        "\n",
        "    tokenized_inputs[\"labels\"] = labels\n",
        "    return tokenized_inputs"
      ]
    },
    {
      "cell_type": "code",
      "execution_count": null,
      "metadata": {
        "id": "CVjOsWcHx2ws",
        "outputId": "af58af92-bca9-47f5-e7dd-c650d3b8f03d",
        "colab": {
          "referenced_widgets": [
            "023b7455bc3d41c290beff67233b7f4a"
          ]
        }
      },
      "outputs": [
        {
          "data": {
            "application/vnd.jupyter.widget-view+json": {
              "model_id": "023b7455bc3d41c290beff67233b7f4a",
              "version_major": 2,
              "version_minor": 0
            },
            "text/plain": [
              "Map:   0%|          | 0/941 [00:00<?, ? examples/s]"
            ]
          },
          "metadata": {},
          "output_type": "display_data"
        }
      ],
      "source": [
        "tokenized_dataset = dataset.map(tokenize_and_align_labels,\n",
        "                                batched=True,\n",
        "                                remove_columns=dataset['train'].column_names)"
      ]
    },
    {
      "cell_type": "code",
      "execution_count": null,
      "metadata": {
        "id": "ygENuG6ix2wt",
        "outputId": "444b8b10-7425-4c92-ed4c-1468952c177e"
      },
      "outputs": [
        {
          "name": "stdout",
          "output_type": "stream",
          "text": [
            "DatasetDict({\n",
            "    train: Dataset({\n",
            "        features: ['input_ids', 'token_type_ids', 'attention_mask', 'labels'],\n",
            "        num_rows: 5433\n",
            "    })\n",
            "    validation: Dataset({\n",
            "        features: ['input_ids', 'token_type_ids', 'attention_mask', 'labels'],\n",
            "        num_rows: 924\n",
            "    })\n",
            "    test: Dataset({\n",
            "        features: ['input_ids', 'token_type_ids', 'attention_mask', 'labels'],\n",
            "        num_rows: 941\n",
            "    })\n",
            "})\n"
          ]
        }
      ],
      "source": [
        "print(tokenized_dataset)"
      ]
    },
    {
      "cell_type": "code",
      "execution_count": null,
      "metadata": {
        "id": "7Ywm2Tsmx2wt"
      },
      "outputs": [],
      "source": [
        "from transformers import DataCollatorForTokenClassification\n",
        "\n",
        "data_collator = DataCollatorForTokenClassification(tokenizer=tokenizer, return_tensors=\"tf\")"
      ]
    },
    {
      "cell_type": "markdown",
      "metadata": {
        "id": "lFW5Qeurx2wu"
      },
      "source": [
        "## Custom Metric & Optimizer"
      ]
    },
    {
      "cell_type": "code",
      "execution_count": null,
      "metadata": {
        "id": "bj0e46hUx2wu"
      },
      "outputs": [],
      "source": [
        "import evaluate\n",
        "\n",
        "seqeval = evaluate.load(\"seqeval\")"
      ]
    },
    {
      "cell_type": "code",
      "execution_count": null,
      "metadata": {
        "id": "g8UnzpMmx2wu"
      },
      "outputs": [],
      "source": [
        "import numpy as np\n",
        "\n",
        "\n",
        "labels = [label_list[i] for i in example[f\"ner_tags\"]]\n",
        "\n",
        "\n",
        "def compute_metrics(p):\n",
        "    predictions, labels = p\n",
        "    predictions = np.argmax(predictions, axis=2)\n",
        "\n",
        "    true_predictions = [\n",
        "        [label_list[p] for (p, l) in zip(prediction, label) if l != -100]\n",
        "        for prediction, label in zip(predictions, labels)\n",
        "    ]\n",
        "    true_labels = [\n",
        "        [label_list[l] for (p, l) in zip(prediction, label) if l != -100]\n",
        "        for prediction, label in zip(predictions, labels)\n",
        "    ]\n",
        "\n",
        "    results = seqeval.compute(predictions=true_predictions, references=true_labels)\n",
        "    return {\n",
        "        \"precision\": results[\"overall_precision\"],\n",
        "        \"recall\": results[\"overall_recall\"],\n",
        "        \"f1\": results[\"overall_f1\"],\n",
        "        \"accuracy\": results[\"overall_accuracy\"],\n",
        "    }"
      ]
    },
    {
      "cell_type": "code",
      "execution_count": null,
      "metadata": {
        "id": "5NWuO5egx2wv",
        "outputId": "bcd69df3-e5a2-4888-e4bf-7f25373f12e1"
      },
      "outputs": [
        {
          "data": {
            "text/plain": [
              "{0: 'O', 1: 'B-Disease', 2: 'I-Disease'}"
            ]
          },
          "execution_count": 14,
          "metadata": {},
          "output_type": "execute_result"
        }
      ],
      "source": [
        "id2label = {i: label for i, label in enumerate(label_list)}\n",
        "label2id = {label: i for i, label in enumerate(label_list)}\n",
        "id2label"
      ]
    },
    {
      "cell_type": "code",
      "execution_count": null,
      "metadata": {
        "id": "uTWluSz5x2wv"
      },
      "outputs": [],
      "source": [
        "from transformers import create_optimizer\n",
        "\n",
        "batch_size = 32\n",
        "num_train_epochs = 10\n",
        "num_train_steps = (len(tokenized_dataset[\"train\"]) // batch_size) * num_train_epochs\n",
        "optimizer, lr_schedule = create_optimizer(\n",
        "    init_lr=2e-5,\n",
        "    num_train_steps=num_train_steps,\n",
        "    weight_decay_rate=0.01,\n",
        "    num_warmup_steps=0,\n",
        ")"
      ]
    },
    {
      "cell_type": "code",
      "execution_count": null,
      "metadata": {
        "id": "tjJE6xOmx2wv",
        "outputId": "7ad2a375-fdc7-4b33-9b87-49d5f192eb22"
      },
      "outputs": [
        {
          "name": "stdout",
          "output_type": "stream",
          "text": [
            "1690\n"
          ]
        }
      ],
      "source": [
        "print(num_train_steps)"
      ]
    },
    {
      "cell_type": "markdown",
      "metadata": {
        "id": "AEfY-oGcx2ww"
      },
      "source": [
        "## Modelling"
      ]
    },
    {
      "cell_type": "code",
      "execution_count": null,
      "metadata": {
        "id": "PPExgVwux2ww",
        "outputId": "8fac9155-1171-4410-b92a-ed6bb9931622"
      },
      "outputs": [
        {
          "name": "stdout",
          "output_type": "stream",
          "text": [
            "INFO:tensorflow:Mixed precision compatibility check (mixed_float16): OK\n",
            "Your GPU will likely run quickly with dtype policy mixed_float16 as it has compute capability of at least 7.0. Your GPU: NVIDIA GeForce RTX 4070, compute capability 8.9\n"
          ]
        }
      ],
      "source": [
        "import tensorflow as tf\n",
        "\n",
        "tf.keras.mixed_precision.set_global_policy('mixed_float16')"
      ]
    },
    {
      "cell_type": "code",
      "execution_count": null,
      "metadata": {
        "id": "XequZMkZx2ww",
        "outputId": "f45d8dea-3bba-43e9-d88c-28120cc47747"
      },
      "outputs": [
        {
          "name": "stderr",
          "output_type": "stream",
          "text": [
            "c:\\Users\\risuser\\.conda\\envs\\text\\lib\\site-packages\\huggingface_hub\\file_download.py:797: FutureWarning: `resume_download` is deprecated and will be removed in version 1.0.0. Downloads always resume when possible. If you want to force a new download, use `force_download=True`.\n",
            "  warnings.warn(\n",
            "All model checkpoint layers were used when initializing TFBertForTokenClassification.\n",
            "\n",
            "Some layers of TFBertForTokenClassification were not initialized from the model checkpoint at Indahgalaputri/PubMedAbstract2M-BERT and are newly initialized: ['classifier']\n",
            "You should probably TRAIN this model on a down-stream task to be able to use it for predictions and inference.\n"
          ]
        }
      ],
      "source": [
        "from transformers import TFAutoModelForTokenClassification\n",
        "\n",
        "model = TFAutoModelForTokenClassification.from_pretrained(\n",
        "    model_checkpoint, num_labels=num_label, id2label=id2label, label2id=label2id\n",
        ")"
      ]
    },
    {
      "cell_type": "code",
      "execution_count": null,
      "metadata": {
        "id": "GUY6gpDRx2wx",
        "outputId": "67551673-85b5-4798-a9cd-bf5e49f42d48"
      },
      "outputs": [
        {
          "name": "stdout",
          "output_type": "stream",
          "text": [
            "<Policy \"mixed_float16\">\n"
          ]
        }
      ],
      "source": [
        "print(model.dtype_policy)"
      ]
    },
    {
      "cell_type": "code",
      "execution_count": null,
      "metadata": {
        "id": "JAYW_i9Ix2wx",
        "outputId": "b3b51f5f-624e-4358-e890-faa2f9d4da4b"
      },
      "outputs": [
        {
          "name": "stdout",
          "output_type": "stream",
          "text": [
            "Model: \"tf_bert_for_token_classification\"\n",
            "_________________________________________________________________\n",
            " Layer (type)                Output Shape              Param #   \n",
            "=================================================================\n",
            " bert (TFBertMainLayer)      multiple                  108891648 \n",
            "                                                                 \n",
            " dropout_37 (Dropout)        multiple                  0         \n",
            "                                                                 \n",
            " classifier (Dense)          multiple                  2307      \n",
            "                                                                 \n",
            "=================================================================\n",
            "Total params: 108,893,955\n",
            "Trainable params: 108,893,955\n",
            "Non-trainable params: 0\n",
            "_________________________________________________________________\n"
          ]
        }
      ],
      "source": [
        "model.summary()"
      ]
    },
    {
      "cell_type": "code",
      "execution_count": null,
      "metadata": {
        "id": "-dTK1m6vx2wx",
        "outputId": "67754232-a15e-43f4-baea-f508020ae6d1"
      },
      "outputs": [
        {
          "name": "stderr",
          "output_type": "stream",
          "text": [
            "You're using a BertTokenizerFast tokenizer. Please note that with a fast tokenizer, using the `__call__` method is faster than using a method to encode the text followed by a call to the `pad` method to get a padded encoding.\n"
          ]
        }
      ],
      "source": [
        "tf_train_set = model.prepare_tf_dataset(\n",
        "    tokenized_dataset[\"train\"],\n",
        "    shuffle=True,\n",
        "    batch_size=32,\n",
        "    collate_fn=data_collator,\n",
        ")\n",
        "\n",
        "tf_validation_set = model.prepare_tf_dataset(\n",
        "    tokenized_dataset[\"validation\"],\n",
        "    shuffle=False,\n",
        "    batch_size=32,\n",
        "    collate_fn=data_collator,\n",
        ")\n",
        "\n",
        "tf_test_set = model.prepare_tf_dataset(\n",
        "    tokenized_dataset[\"test\"],\n",
        "    shuffle=False,\n",
        "    batch_size=32,\n",
        "    collate_fn=data_collator,\n",
        ")"
      ]
    },
    {
      "cell_type": "code",
      "execution_count": null,
      "metadata": {
        "id": "w15Wu2Uqx2wx"
      },
      "outputs": [],
      "source": [
        "import tensorflow as tf\n",
        "\n",
        "model.compile(optimizer=optimizer)  # No loss argument!"
      ]
    },
    {
      "cell_type": "markdown",
      "metadata": {
        "id": "bc90z847x2wy"
      },
      "source": [
        "## Callback"
      ]
    },
    {
      "cell_type": "code",
      "execution_count": null,
      "metadata": {
        "id": "VZ23RVYix2wy"
      },
      "outputs": [],
      "source": [
        "from transformers.keras_callbacks import KerasMetricCallback\n",
        "\n",
        "metric_callback = KerasMetricCallback(metric_fn=compute_metrics, eval_dataset=tf_validation_set)"
      ]
    },
    {
      "cell_type": "code",
      "execution_count": null,
      "metadata": {
        "id": "52eBjaNix2wy"
      },
      "outputs": [],
      "source": [
        "early_stopping = tf.keras.callbacks.EarlyStopping(\n",
        "    monitor=\"val_loss\",\n",
        "    patience=5,\n",
        "    restore_best_weights=True,\n",
        "    mode=\"min\",\n",
        "    verbose=1\n",
        ")"
      ]
    },
    {
      "cell_type": "code",
      "execution_count": null,
      "metadata": {
        "id": "8nZKvRcEx2wy"
      },
      "outputs": [],
      "source": [
        "from tensorflow.keras.callbacks import ModelCheckpoint\n",
        "checkpoint_callback = ModelCheckpoint(\n",
        "    filepath=f\"./Model/NCBI_{batch_size}.h5\",  #ini benar baru\n",
        "    monitor=\"val_loss\",\n",
        "    save_best_only=True,\n",
        "    save_weights_only=True,\n",
        "    verbose=1,\n",
        "\n",
        ")"
      ]
    },
    {
      "cell_type": "code",
      "execution_count": null,
      "metadata": {
        "id": "9EhTfcY-x2wz"
      },
      "outputs": [],
      "source": [
        "from tensorflow.keras.callbacks import Callback\n",
        "import os\n",
        "import pandas as pd\n",
        "\n",
        "class HistoryCSVAppendCallback(Callback):\n",
        "    def __init__(self, filepath):\n",
        "        super(HistoryCSVAppendCallback, self).__init__()\n",
        "        self.filepath = filepath\n",
        "        self.first_epoch = not os.path.exists(filepath)  # Check if file exists\n",
        "\n",
        "    def on_epoch_end(self, epoch, logs=None):\n",
        "        # Convert logs to a pandas DataFrame\n",
        "        epoch_history = pd.DataFrame(logs, index=[epoch])\n",
        "\n",
        "        # If file doesn't exist, create it with the header, otherwise append\n",
        "        if self.first_epoch:\n",
        "            epoch_history.to_csv(self.filepath, mode='w', header=True)\n",
        "            self.first_epoch = False\n",
        "        else:\n",
        "            epoch_history.to_csv(self.filepath, mode='a', header=False)\n",
        "\n",
        "# Define file paths for saving model and history\n",
        "history_filepath = './History/NCBI.csv'\n",
        "\n",
        "history_callback = HistoryCSVAppendCallback(filepath=history_filepath)"
      ]
    },
    {
      "cell_type": "code",
      "execution_count": null,
      "metadata": {
        "id": "_VWNgceFx2wz"
      },
      "outputs": [],
      "source": [
        "callback = [metric_callback, early_stopping, checkpoint_callback, history_callback]"
      ]
    },
    {
      "cell_type": "markdown",
      "metadata": {
        "id": "Dh9M9LIdx2wz"
      },
      "source": [
        "### Training"
      ]
    },
    {
      "cell_type": "code",
      "execution_count": null,
      "metadata": {
        "id": "weZ8q7VUx2w0",
        "outputId": "13953823-2515-4481-9506-a4db7321eb36"
      },
      "outputs": [
        {
          "name": "stdout",
          "output_type": "stream",
          "text": [
            "Epoch 1/100\n",
            "169/169 [==============================] - ETA: 0s - loss: 0.1319\n",
            "Epoch 1: val_loss improved from inf to 0.04921, saving model to ./Model\\NCBI_32.h5\n",
            "169/169 [==============================] - 38s 162ms/step - loss: 0.1319 - val_loss: 0.0492 - precision: 0.7696 - recall: 0.8361 - f1: 0.8015 - accuracy: 0.9834\n",
            "Epoch 2/100\n",
            "169/169 [==============================] - ETA: 0s - loss: 0.0341\n",
            "Epoch 2: val_loss improved from 0.04921 to 0.04883, saving model to ./Model\\NCBI_32.h5\n",
            "169/169 [==============================] - 23s 133ms/step - loss: 0.0341 - val_loss: 0.0488 - precision: 0.7859 - recall: 0.8488 - f1: 0.8161 - accuracy: 0.9851\n",
            "Epoch 3/100\n",
            "169/169 [==============================] - ETA: 0s - loss: 0.0213\n",
            "Epoch 3: val_loss improved from 0.04883 to 0.04708, saving model to ./Model\\NCBI_32.h5\n",
            "169/169 [==============================] - 24s 138ms/step - loss: 0.0213 - val_loss: 0.0471 - precision: 0.7779 - recall: 0.8767 - f1: 0.8244 - accuracy: 0.9860\n",
            "Epoch 4/100\n",
            "169/169 [==============================] - ETA: 0s - loss: 0.0135\n",
            "Epoch 4: val_loss did not improve from 0.04708\n",
            "169/169 [==============================] - 20s 115ms/step - loss: 0.0135 - val_loss: 0.0519 - precision: 0.7986 - recall: 0.8818 - f1: 0.8382 - accuracy: 0.9864\n",
            "Epoch 5/100\n",
            "169/169 [==============================] - ETA: 0s - loss: 0.0088\n",
            "Epoch 5: val_loss did not improve from 0.04708\n",
            "169/169 [==============================] - 19s 114ms/step - loss: 0.0088 - val_loss: 0.0546 - precision: 0.8234 - recall: 0.8590 - f1: 0.8408 - accuracy: 0.9865\n",
            "Epoch 6/100\n",
            "169/169 [==============================] - ETA: 0s - loss: 0.0062\n",
            "Epoch 6: val_loss did not improve from 0.04708\n",
            "169/169 [==============================] - 19s 115ms/step - loss: 0.0062 - val_loss: 0.0583 - precision: 0.8111 - recall: 0.8729 - f1: 0.8409 - accuracy: 0.9872\n",
            "Epoch 7/100\n",
            "169/169 [==============================] - ETA: 0s - loss: 0.0044\n",
            "Epoch 7: val_loss did not improve from 0.04708\n",
            "169/169 [==============================] - 19s 114ms/step - loss: 0.0044 - val_loss: 0.0622 - precision: 0.8035 - recall: 0.8679 - f1: 0.8345 - accuracy: 0.9867\n",
            "Epoch 8/100\n",
            "169/169 [==============================] - ETA: 0s - loss: 0.0033Restoring model weights from the end of the best epoch: 3.\n",
            "\n",
            "Epoch 8: val_loss did not improve from 0.04708\n",
            "169/169 [==============================] - 19s 114ms/step - loss: 0.0033 - val_loss: 0.0651 - precision: 0.8174 - recall: 0.8704 - f1: 0.8431 - accuracy: 0.9869\n",
            "Epoch 8: early stopping\n",
            "Training time: 0h 3m 1s\n"
          ]
        }
      ],
      "source": [
        "import time\n",
        "start_time = time.time()\n",
        "history = model.fit(tf_train_set, validation_data=tf_validation_set, epochs=100, callbacks=callback)\n",
        "end_time = time.time()\n",
        "\n",
        "inference_time = end_time - start_time\n",
        "hours = int(inference_time // 3600)\n",
        "minutes = int((inference_time % 3600) // 60)\n",
        "seconds = int(inference_time % 60)\n",
        "\n",
        "print(f\"Training time: {hours}h {minutes}m {seconds}s\")\n"
      ]
    },
    {
      "cell_type": "markdown",
      "metadata": {
        "id": "_MMtPrVax2w0"
      },
      "source": [
        "# Evaluasi"
      ]
    },
    {
      "cell_type": "code",
      "execution_count": null,
      "metadata": {
        "id": "rnoVYIfPx2w0"
      },
      "outputs": [],
      "source": [
        "# # Define model nya di kode # Modelling tapi tidak perlu di training\n",
        "# model.load_weights(f\"./Model/NCBI_{batch_size}.h5\")"
      ]
    },
    {
      "cell_type": "code",
      "execution_count": null,
      "metadata": {
        "id": "KKgtVd5cx2w1",
        "outputId": "1ff0c4e1-a1f2-4b73-b5b5-37d5c925d57c"
      },
      "outputs": [
        {
          "name": "stdout",
          "output_type": "stream",
          "text": [
            "              precision    recall  f1-score   support\n",
            "\n",
            "           O       0.99      1.00      0.99     22232\n",
            "   B-Disease       0.92      0.84      0.88      1047\n",
            "   I-Disease       0.94      0.85      0.89      1209\n",
            "\n",
            "    accuracy                           0.98     24488\n",
            "   macro avg       0.95      0.90      0.92     24488\n",
            "weighted avg       0.98      0.98      0.98     24488\n",
            "\n"
          ]
        }
      ],
      "source": [
        "import numpy as np\n",
        "from sklearn.metrics import classification_report\n",
        "\n",
        "all_predictions = []\n",
        "all_labels = []\n",
        "\n",
        "for batch in tf_test_set:\n",
        "    logits = model.predict_on_batch(batch[0])[\"logits\"]  # Get logits, Accessing the first element of the tuple\n",
        "    labels = batch[1]  # Get true labels, Accessing the second element of the tuple\n",
        "\n",
        "    predictions = np.argmax(logits, axis=-1)  # Convert logits to class indices\n",
        "\n",
        "    for prediction, label in zip(predictions, labels):\n",
        "        for predicted_idx, label_idx in zip(prediction, label):\n",
        "            if label_idx == -100:  # Ignore padding labels\n",
        "                continue\n",
        "            all_predictions.append(label_idx)  # Store actual label indices\n",
        "            all_labels.append(predicted_idx)   # Store predicted indices\n",
        "\n",
        "# Convert label indices to NumPy arrays\n",
        "all_labels = np.array(all_labels)\n",
        "all_predictions = np.array(all_predictions)\n",
        "\n",
        "# Print classification report\n",
        "report = classification_report(all_labels, all_predictions, target_names=id2label.values())\n",
        "print(report)"
      ]
    },
    {
      "cell_type": "code",
      "execution_count": null,
      "metadata": {
        "id": "YPw4jypNx2w1"
      },
      "outputs": [],
      "source": [
        "with open(f\"./CR/NCBI_{batch_size}.txt\", \"w\") as f:\n",
        "    f.write(report)"
      ]
    },
    {
      "cell_type": "code",
      "execution_count": null,
      "metadata": {
        "id": "ESE8lVxdx2w1",
        "outputId": "4138e2d8-94b3-4f10-e212-a5fba4c49994"
      },
      "outputs": [
        {
          "data": {
            "image/png": "[encoded data removed]",
            "text/plain": [
              "<Figure size 800x600 with 2 Axes>"
            ]
          },
          "metadata": {},
          "output_type": "display_data"
        }
      ],
      "source": [
        "import numpy as np\n",
        "import seaborn as sns\n",
        "import matplotlib.pyplot as plt\n",
        "from sklearn.metrics import confusion_matrix\n",
        "\n",
        "# Compute confusion matrix\n",
        "cm = confusion_matrix(all_labels, all_predictions)\n",
        "\n",
        "# Plot confusion matrix\n",
        "plt.figure(figsize=(8, 6))\n",
        "sns.heatmap(cm, annot=True, fmt=\"d\", cmap=\"Blues\",\n",
        "            xticklabels=list(label_list),\n",
        "            yticklabels=list(label_list),\n",
        "            vmax=1000)  # Cap color intensity at 1000\n",
        "\n",
        "plt.xlabel(\"Predicted Labels\")\n",
        "plt.ylabel(\"True Labels\")\n",
        "plt.title(\"Confusion Matrix\")\n",
        "plt.savefig(f\"./CM/NCBI_{batch_size}_test.png\", dpi=300, bbox_inches='tight')\n",
        "plt.show()"
      ]
    }
  ],
  "metadata": {
    "kernelspec": {
      "display_name": "Python 3",
      "language": "python",
      "name": "python3"
    },
    "language_info": {
      "codemirror_mode": {
        "name": "ipython",
        "version": 3
      },
      "file_extension": ".py",
      "mimetype": "text/x-python",
      "name": "python",
      "nbconvert_exporter": "python",
      "pygments_lexer": "ipython3",
      "version": "3.9.21"
    },
    "colab": {
      "provenance": []
    }
  },
  "nbformat": 4,
  "nbformat_minor": 0
}